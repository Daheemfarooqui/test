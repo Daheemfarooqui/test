{
  "metadata": {
    "kernelspec": {
      "name": "python",
      "display_name": "Python (Pyodide)",
      "language": "python"
    },
    "language_info": {
      "codemirror_mode": {
        "name": "python",
        "version": 3
      },
      "file_extension": ".py",
      "mimetype": "text/x-python",
      "name": "python",
      "nbconvert_exporter": "python",
      "pygments_lexer": "ipython3",
      "version": "3.8"
    }
  },
  "nbformat_minor": 4,
  "nbformat": 4,
  "cells": [
    {
      "cell_type": "markdown",
      "source": " ## Q1. Explain with an example each when to use a for loop and a while loop.",
      "metadata": {}
    },
    {
      "cell_type": "markdown",
      "source": "\nHere are the solutions to the questions you provided:\n\nQ1. Explanation of when to use a for loop and a while loop:\nFor loop: Use a for loop when you know the number of iterations beforehand, or when iterating over sequences like lists, tuples, strings, etc.\n\nExample: Iterating over a list of numbers to perform some operation on each element.\n\nWhile loop: Use a while loop when you're unsure about the number of iterations, and you want to continue iterating until a certain condition is met.\n\nExample: Iterating until a specific condition is true, such as until a user inputs 'quit'.",
      "metadata": {}
    },
    {
      "cell_type": "markdown",
      "source": "## Q2. Write a python program to print the sum and product of the first 10 natural numbers using for and while loop.",
      "metadata": {}
    },
    {
      "cell_type": "code",
      "source": "# Using for loop\nsum_for = 0\nproduct_for = 1\nfor i in range(1, 11):\n    sum_for += i\n    product_for *= i\nprint(\"Sum using for loop:\", sum_for)\nprint(\"Product using for loop:\", product_for)\n\n# Using while loop\nsum_while = 0\nproduct_while = 1\ni = 1\nwhile i <= 10:\n    sum_while += i\n    product_while *= i\n    i += 1\nprint(\"Sum using while loop:\", sum_while)\nprint(\"Product using while loop:\", product_while)\n",
      "metadata": {
        "trusted": true
      },
      "outputs": [
        {
          "name": "stdout",
          "text": "Sum using for loop: 55\nProduct using for loop: 3628800\nSum using while loop: 55\nProduct using while loop: 3628800\n",
          "output_type": "stream"
        }
      ],
      "execution_count": 1
    },
    {
      "cell_type": "markdown",
      "source": "## Q3. Create a python program to compute the electricity bill for a household. The per-unit charges in rupees are as follows: For the first 10 units, the user will be charged Rs. 4.5 per unit, for the next 100 units, the user will be charged Rs. 6 per unit, and for the next 100 units, the user will be charged Rs. 10 per unit, After 300 units and above the user will be charged Rs. 20 per unit.",
      "metadata": {}
    },
    {
      "cell_type": "code",
      "source": "def calculate_electricity_bill(units):\n    total_bill = 0\n    \n    if units <= 100:\n        total_bill = units * 4.5\n    elif units <= 200:\n        total_bill = 100 * 4.5 + (units - 100) * 6\n    elif units <= 300:\n        total_bill = 100 * 4.5 + 100 * 6 + (units - 200) * 10\n    else:\n        total_bill = 100 * 4.5 + 100 * 6 + 100 * 10 + (units - 300) * 20\n        \n    return total_bill\n\n# Test the function with the given test case\nunits_consumed = 310\nbill = calculate_electricity_bill(units_consumed)\nprint(\"Total electricity bill for {} units: Rs. {:.2f}\".format(units_consumed, bill))\n",
      "metadata": {
        "trusted": true
      },
      "outputs": [
        {
          "name": "stdout",
          "text": "Total electricity bill for 310 units: Rs. 2250.00\n",
          "output_type": "stream"
        }
      ],
      "execution_count": 6
    },
    {
      "cell_type": "code",
      "source": "",
      "metadata": {
        "trusted": true
      },
      "outputs": [],
      "execution_count": null
    }
  ]
}